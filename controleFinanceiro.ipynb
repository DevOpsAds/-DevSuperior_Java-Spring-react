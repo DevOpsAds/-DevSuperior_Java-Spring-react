{
  "nbformat": 4,
  "nbformat_minor": 0,
  "metadata": {
    "colab": {
      "provenance": [],
      "authorship_tag": "ABX9TyP8FZ3YZbTjl6Aq3GmhEzGv",
      "include_colab_link": true
    },
    "kernelspec": {
      "name": "python3",
      "display_name": "Python 3"
    },
    "language_info": {
      "name": "python"
    }
  },
  "cells": [
    {
      "cell_type": "markdown",
      "metadata": {
        "id": "view-in-github",
        "colab_type": "text"
      },
      "source": [
        "<a href=\"https://colab.research.google.com/github/DevOpsAds/-DevSuperior_Java-Spring-react/blob/main/controleFinanceiro.ipynb\" target=\"_parent\"><img src=\"https://colab.research.google.com/assets/colab-badge.svg\" alt=\"Open In Colab\"/></a>"
      ]
    },
    {
      "cell_type": "code",
      "execution_count": 6,
      "metadata": {
        "colab": {
          "base_uri": "https://localhost:8080/"
        },
        "id": "xKhSE8wRQYFx",
        "outputId": "93cfb602-9010-43e7-b8c3-d9de4f5c9c2f"
      },
      "outputs": [
        {
          "output_type": "stream",
          "name": "stdout",
          "text": [
            "Deseja registrar os gastos e compras para a data atual? (y/n)\n",
            "y\n",
            "Descrição da compra/gasto: higiene\n",
            "Valor: 15.00\n",
            "Categoria: higiene\n",
            "Dados salvos com sucesso!\n"
          ]
        }
      ],
      "source": [
        "# prompt: crie um codigo trenar gastos e compras\n",
        "\n",
        "class Gasto:\n",
        "  def __init__(self, descricao, valor, data):\n",
        "    self.descricao = descricao\n",
        "    self.valor = valor\n",
        "    self.data = data\n",
        "\n",
        "class Compra(Gasto):\n",
        "  def __init__(self, descricao, valor, data, local):\n",
        "    super().__init__(descricao, valor, data)\n",
        "    self.local = local\n",
        "\n",
        "gastos = []\n",
        "compras = []\n",
        "\n",
        "while True:\n",
        "  print(\"\\nEscolha uma opção:\")\n",
        "  print(\"1. Registrar um gasto\")\n",
        "  print(\"2. Registrar uma compra\")\n",
        "  print(\"3. Ver histórico de gastos\")\n",
        "  print(\"4. Ver histórico de compras\")\n",
        "  print(\"5. Sair\")\n",
        "\n",
        "  opcao = input(\"Digite o número da opção desejada: \")\n",
        "\n",
        "  if opcao == '1':\n",
        "    descricao = input(\"Descrição do gasto: \")\n",
        "    valor = float(input(\"Valor do gasto: \"))\n",
        "    data = input(\"Data do gasto (AAAA-MM-DD): \")\n",
        "    gasto = Gasto(descricao, valor, data)\n",
        "    gastos.append(gasto)\n",
        "    print(\"Gasto registrado com sucesso!\")\n",
        "\n",
        "  elif opcao == '2':\n",
        "    descricao = input(\"Descrição da compra: \")\n",
        "    valor = float(input(\"Valor da compra: \"))\n",
        "    data = input(\"Data da compra (AAAA-MM-DD): \")\n",
        "    local = input(\"Local da compra: \")\n",
        "    compra = Compra(descricao, valor, data, local)\n",
        "    compras.append(compra)\n",
        "    print(\"Compra registrada com sucesso!\")\n",
        "\n",
        "  elif opcao == '3':\n",
        "    print(\"\\nHistórico de Gastos:\")\n",
        "    for gasto in gastos:\n",
        "      print(f\"Descrição: {gasto.descricao}, Valor: {gasto.valor}, Data: {gasto.data}\")\n",
        "\n",
        "  elif opcao == '4':\n",
        "    print(\"\\nHistórico de Compras:\")\n",
        "    for compra in compras:\n",
        "      print(f\"Descrição: {compra.descricao}, Valor: {compra.valor}, Data: {compra.data}, Local: {compra.local}\")\n",
        "\n",
        "  elif opcao == '5':\n",
        "    print(\"Saindo...\")\n",
        "    break\n",
        "\n",
        "  else:\n",
        "    print(\"Opção inválida. Tente novamente.\")\n"
      ]
    },
    {
      "cell_type": "code",
      "source": [
        "# prompt: obtenha do codigo anterior um arquivo .csv e salve\n",
        "\n",
        "import csv\n",
        "\n",
        "def salvar_gastos_e_compras_csv(gastos, compras, nome_arquivo=\"gastos_e_compras.csv\"):\n",
        "  with open(nome_arquivo, mode='w', newline='', encoding='utf-8') as arquivo_csv:\n",
        "    writer = csv.writer(arquivo_csv)\n",
        "    writer.writerow(['Tipo', 'Data', 'Descrição', 'Valor'])\n",
        "    for gasto in gastos:\n",
        "      writer.writerow(['Gasto', gasto.data, gasto.descricao, gasto.valor])\n",
        "    for compra in compras:\n",
        "      writer.writerow(['Compra', compra.data, compra.descricao, compra.valor])\n",
        "  print(f\"Dados salvos em {nome_arquivo}\")\n",
        "\n",
        "\n",
        "salvar_gastos_e_compras_csv(gastos, compras)\n"
      ],
      "metadata": {
        "colab": {
          "base_uri": "https://localhost:8080/"
        },
        "id": "2t66dIDjSc4s",
        "outputId": "e3983be3-64e3-4e97-f2ec-4006898b3251"
      },
      "execution_count": 5,
      "outputs": [
        {
          "output_type": "stream",
          "name": "stdout",
          "text": [
            "Dados salvos em gastos_e_compras.csv\n"
          ]
        }
      ]
    }
  ]
}